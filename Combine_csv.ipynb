{
 "cells": [
  {
   "cell_type": "code",
   "execution_count": 14,
   "id": "0e432b3e-5844-42e5-bce7-0346df1c339d",
   "metadata": {},
   "outputs": [],
   "source": [
    "import pandas as pd\n",
    "import os\n",
    "directory = './generated'\n",
    "df = pd.DataFrame()"
   ]
  },
  {
   "cell_type": "code",
   "execution_count": 18,
   "id": "bbd52acf-ad7a-4354-adb1-316a427da2e2",
   "metadata": {},
   "outputs": [
    {
     "name": "stdout",
     "output_type": "stream",
     "text": [
      "Done combining CSV\n"
     ]
    }
   ],
   "source": [
    "for dirfile in os.listdir(directory):\n",
    "    csv = os.path.join(directory, dirfile)\n",
    "    if os.path.isfile(csv) and dirfile != \"atp_matches_2016.csv\":\n",
    "        new_df = pd.read_csv(csv)\n",
    "        df = pd.concat([df, new_df], ignore_index=True, sort=False)\n",
    "        \n",
    "newdir = os.path.join('./combined', \"combined_atp_matches.csv\")\n",
    "df.to_csv(newdir, index=False)  \n",
    "print(\"Done combining CSV\")"
   ]
  },
  {
   "cell_type": "code",
   "execution_count": null,
   "id": "258fbd34-0b46-4a03-b61e-3446670b556e",
   "metadata": {},
   "outputs": [],
   "source": []
  }
 ],
 "metadata": {
  "kernelspec": {
   "display_name": "Python 3 (ipykernel)",
   "language": "python",
   "name": "python3"
  },
  "language_info": {
   "codemirror_mode": {
    "name": "ipython",
    "version": 3
   },
   "file_extension": ".py",
   "mimetype": "text/x-python",
   "name": "python",
   "nbconvert_exporter": "python",
   "pygments_lexer": "ipython3",
   "version": "3.10.7"
  }
 },
 "nbformat": 4,
 "nbformat_minor": 5
}
