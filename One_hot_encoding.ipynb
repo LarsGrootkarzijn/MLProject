{
 "cells": [
  {
   "cell_type": "code",
   "execution_count": 8,
   "id": "8f71d07b-7a04-48b3-91ff-4d17c54fbd0a",
   "metadata": {},
   "outputs": [
    {
     "name": "stdout",
     "output_type": "stream",
     "text": [
      "R32\n"
     ]
    }
   ],
   "source": [
    "import pandas as pd\n",
    "import os\n",
    "#Disable chaining\n",
    "pd.options.mode.chained_assignment = None \n",
    "#Load CSV\n",
    "directory = './archive'\n",
    "df = pd.read_csv(\"./archive/atp_matches_2005.csv\")"
   ]
  },
  {
   "cell_type": "code",
   "execution_count": 17,
   "id": "43baea64-46ff-4706-ae59-d3e7caceefcf",
   "metadata": {},
   "outputs": [
    {
     "name": "stdout",
     "output_type": "stream",
     "text": [
      "Done, files in ./generated\n"
     ]
    }
   ],
   "source": [
    "for dirfile in os.listdir(directory):\n",
    "    csv = os.path.join(directory, dirfile)\n",
    "    if os.path.isfile(csv) and dirfile != \"atp_matches_2016.csv\":\n",
    "        encode_winner_hand = pd.get_dummies(df[\"winner_hand\"])\n",
    "        df[\"hand_r\"] = encode_winner_hand[\"R\"]\n",
    "        df[\"hand_l\"] = encode_winner_hand[\"L\"]\n",
    "        #Surface: Hard = 0; Clay = 1; Carpet = 2; Grass = 3;\n",
    "        encode_surface = pd.get_dummies(df[\"surface\"])\n",
    "        df[\"surface_clay\"] = encode_surface[\"Hard\"]\n",
    "        df[\"surface_hard\"] = encode_surface[\"Clay\"]\n",
    "        df[\"surface_carpet\"] = encode_surface[\"Carpet\"]\n",
    "        df[\"surface_grass\"] = encode_surface[\"Grass\"]\n",
    "\n",
    "        #Round: RR = 0; R128 = 1; R64 = 2; R32 = 3; R16 = 4; QF = 5; SF = 6; F = 7;\n",
    "        encode_round = pd.get_dummies(df[\"round\"])\n",
    "        \n",
    "        df[\"round_RR\"] = encode_round[\"RR\"]\n",
    "        df[\"round_R128\"] = encode_round[\"R128\"]\n",
    "        df[\"round_R64\"] = encode_round[\"R64\"]\n",
    "        df[\"round_R32\"] = encode_round[\"R32\"]\n",
    "        df[\"round_R16\"] = encode_round[\"R16\"]\n",
    "        df[\"round_QF\"] = encode_round[\"QF\"]\n",
    "        df[\"round_SF\"] = encode_round[\"SF\"]\n",
    "        df[\"round_F\"] = encode_round[\"F\"]\n",
    "        \n",
    "\n",
    "        newdir = os.path.join('./generated', dirfile)\n",
    "        df.to_csv(newdir, index=False)  \n",
    "\n",
    "print(\"Done, files in ./generated\")"
   ]
  }
 ],
 "metadata": {
  "kernelspec": {
   "display_name": "Python 3 (ipykernel)",
   "language": "python",
   "name": "python3"
  },
  "language_info": {
   "codemirror_mode": {
    "name": "ipython",
    "version": 3
   },
   "file_extension": ".py",
   "mimetype": "text/x-python",
   "name": "python",
   "nbconvert_exporter": "python",
   "pygments_lexer": "ipython3",
   "version": "3.10.7"
  }
 },
 "nbformat": 4,
 "nbformat_minor": 5
}
