{
 "cells": [
  {
   "cell_type": "code",
   "execution_count": 2,
   "id": "8f71d07b-7a04-48b3-91ff-4d17c54fbd0a",
   "metadata": {},
   "outputs": [],
   "source": [
    "import pandas as pd\n",
    "import os\n",
    "import numpy as np\n",
    "import random\n",
    "#Disable chaining\n",
    "pd.options.mode.chained_assignment = None \n",
    "#Load CSV\n",
    "directory = './archive'"
   ]
  },
  {
   "cell_type": "code",
   "execution_count": 29,
   "id": "43baea64-46ff-4706-ae59-d3e7caceefcf",
   "metadata": {},
   "outputs": [
    {
     "ename": "SyntaxError",
     "evalue": "unterminated string literal (detected at line 57) (452833441.py, line 57)",
     "output_type": "error",
     "traceback": [
      "\u001b[1;36m  Cell \u001b[1;32mIn [29], line 57\u001b[1;36m\u001b[0m\n\u001b[1;33m    df.dropna(subset=('winner_rank',loser_rank'),inplace = True)\u001b[0m\n\u001b[1;37m                                              ^\u001b[0m\n\u001b[1;31mSyntaxError\u001b[0m\u001b[1;31m:\u001b[0m unterminated string literal (detected at line 57)\n"
     ]
    }
   ],
   "source": [
    "for dirfile in os.listdir(directory):\n",
    "    csv = os.path.join(directory, dirfile)\n",
    "    if os.path.isfile(csv) and dirfile != \"atp_matches_2016.csv\" and dirfile != \"atp_matches_2017.csv\":\n",
    "        df = pd.read_csv(csv)\n",
    "        print(\"Currently processing\", csv)\n",
    "        encode_winner_hand = pd.get_dummies(df[\"winner_hand\"])\n",
    "        df[\"winner_hand_r\"] = encode_winner_hand[\"R\"]\n",
    "        df[\"winner_hand_l\"] = encode_winner_hand[\"L\"]\n",
    "        \n",
    "        encode_loser_hand = pd.get_dummies(df[\"loser_hand\"])\n",
    "        df[\"loser_hand_r\"] = encode_loser_hand[\"R\"]\n",
    "        df[\"loser_hand_l\"] = encode_loser_hand[\"L\"]\n",
    "        #Surface: Hard = 0; Clay = 1; Carpet = 2; Grass = 3;\n",
    "        \n",
    "        encode_surface = pd.get_dummies(df[\"surface\"])\n",
    "        df[\"surface_clay\"] = encode_surface[\"Hard\"]\n",
    "        df[\"surface_hard\"] = encode_surface[\"Clay\"]\n",
    "        if 'Carpet' in encode_surface.columns: \n",
    "            df[\"surface_carpet\"] = encode_surface[\"Carpet\"]\n",
    "        else:\n",
    "            df[\"surface_carpet\"] = 0\n",
    "        df[\"surface_grass\"] = encode_surface[\"Grass\"]\n",
    "\n",
    "        #Round: RR = 0; R128 = 1; R64 = 2; R32 = 3; R16 = 4; QF = 5; SF = 6; F = 7;\n",
    "        encode_round = pd.get_dummies(df[\"round\"])\n",
    "        \n",
    "        df[\"round_RR\"] = encode_round[\"RR\"]\n",
    "        df[\"round_R128\"] = encode_round[\"R128\"]\n",
    "        df[\"round_R64\"] = encode_round[\"R64\"]\n",
    "        df[\"round_R32\"] = encode_round[\"R32\"]\n",
    "        df[\"round_R16\"] = encode_round[\"R16\"]\n",
    "        df[\"round_QF\"] = encode_round[\"QF\"]\n",
    "        df[\"round_SF\"] = encode_round[\"SF\"]\n",
    "        df[\"round_F\"] = encode_round[\"F\"]\n",
    "\n",
    "        temp_df = pd.DataFrame()\n",
    "        temp_df[\"player_1\"] = df[\"winner_id\"]\n",
    "        temp_df[\"player_2\"] = df[\"loser_id\"]\n",
    "\n",
    "        list_temp_df = temp_df.values.tolist()\n",
    "        for i in list_temp_df:\n",
    "            random.shuffle(i)\n",
    "        temp_df = pd.DataFrame(list_temp_df,columns =[\"player_1\", \"player_2\"])\n",
    "        \n",
    "        df[\"player_1\"] = temp_df[\"player_1\"]\n",
    "        df[\"player_2\"] = temp_df[\"player_2\"]\n",
    "        \n",
    "        for i in list_temp_df:\n",
    "            random.shuffle(i)\n",
    "        \n",
    "        df[\"player_1_win\"] = 0\n",
    "        df[\"player_2_win\"] = 0\n",
    "        for i in list_temp_df:\n",
    "            df[\"player_1_win\"] = (df[\"winner_id\"] == df[\"player_1\"])\n",
    "            df[\"player_2_win\"] = (df[\"winner_id\"] == df[\"player_2\"])\n",
    "        \n",
    "        df.dropna(subset=['winner_rank,'loser_rank'],inplace = true);\n",
    "\n",
    "        newdir = os.path.join('./generated', dirfile)\n",
    "        df.to_csv(newdir, index=False)  \n",
    "        \n",
    "\n",
    "print(\"Done, files in ./generated\")"
   ]
  },
  {
   "cell_type": "code",
   "execution_count": null,
   "id": "69432205-11d4-4f41-8160-3c02286b39ba",
   "metadata": {},
   "outputs": [],
   "source": []
  }
 ],
 "metadata": {
  "kernelspec": {
   "display_name": "Python 3 (ipykernel)",
   "language": "python",
   "name": "python3"
  },
  "language_info": {
   "codemirror_mode": {
    "name": "ipython",
    "version": 3
   },
   "file_extension": ".py",
   "mimetype": "text/x-python",
   "name": "python",
   "nbconvert_exporter": "python",
   "pygments_lexer": "ipython3",
   "version": "3.10.7"
  }
 },
 "nbformat": 4,
 "nbformat_minor": 5
}
