{
 "cells": [
  {
   "cell_type": "code",
   "execution_count": 1,
   "id": "24457811-dfd5-4560-86a8-3d0142d5e683",
   "metadata": {},
   "outputs": [],
   "source": [
    "import pandas as pd\n",
    "\n",
    "#Disable chaining\n",
    "pd.options.mode.chained_assignment = None \n",
    "#Load CSV\n",
    "df = pd.read_csv('./archive/atp_matches_2007.csv')\n"
   ]
  },
  {
   "cell_type": "code",
   "execution_count": 2,
   "id": "8a952ff5-60f4-4e02-bec3-bfa8eec02fa8",
   "metadata": {},
   "outputs": [],
   "source": [
    "#Hand: R = 0; L = 1; U = drop from table;\n",
    "for hand_index in df.index:\n",
    "    if(df[\"winner_hand\"][hand_index] == \"R\"):\n",
    "        df[\"winner_hand\"][hand_index] = 0;\n",
    "    elif(df[\"winner_hand\"][hand_index] == \"L\"):\n",
    "        df[\"winner_hand\"][hand_index] = 1;\n",
    "    elif(df[\"winner_hand\"][hand_index] == \"U\"):\n",
    "        df = df.drop(index=hand_index)\n",
    "\n",
    "#Surface: Hard = 0; Clay = 1; Carpet = 2; Grass = 3;\n",
    "for surface_index in df.index:\n",
    "    match df[\"surface\"][surface_index]:\n",
    "        case \"Hard\":\n",
    "            df[\"surface\"][surface_index] = 0;\n",
    "        case \"Clay\":\n",
    "            df[\"surface\"][surface_index] = 1;\n",
    "        case \"Carpet\":\n",
    "            df[\"surface\"][surface_index] = 2;\n",
    "        case \"Grass\":\n",
    "            df[\"surface\"][surface_index] = 3;\n",
    "            \n",
    "#Round: RR = 0; R128 = 1; R64 = 2; R32 = 3; R16 = 4; QF = 5; SF = 6; F = 7;\n",
    "for round_index in df.index:\n",
    "    match df[\"round\"][round_index]:\n",
    "        case \"RR\":\n",
    "            df[\"round\"][round_index] = 0;\n",
    "        case \"R128\":\n",
    "            df[\"round\"][round_index] = 1;\n",
    "        case \"R64\":\n",
    "            df[\"round\"][round_index] = 2;\n",
    "        case \"R32\":\n",
    "            df[\"round\"][round_index] = 3;\n",
    "        case \"R16\":\n",
    "            df[\"round\"][round_index] = 4;\n",
    "        case \"QF\":\n",
    "            df[\"round\"][round_index] = 5;\n",
    "        case \"SF\":\n",
    "            df[\"round\"][round_index] = 6;\n",
    "        case \"F\":\n",
    "            df[\"round\"][round_index] = 7;\n",
    "        \n",
    "#df"
   ]
  },
  {
   "cell_type": "code",
   "execution_count": 4,
   "id": "1919105f-d1e5-46ca-8df2-a76c34bb7a4f",
   "metadata": {},
   "outputs": [],
   "source": [
    "df.to_csv('./new_atp_2007.csv', index=False)  "
   ]
  },
  {
   "cell_type": "code",
   "execution_count": null,
   "id": "3d6f6dcc-0c93-4b8d-a663-93f5ede4a918",
   "metadata": {},
   "outputs": [],
   "source": []
  }
 ],
 "metadata": {
  "kernelspec": {
   "display_name": "Python 3 (ipykernel)",
   "language": "python",
   "name": "python3"
  },
  "language_info": {
   "codemirror_mode": {
    "name": "ipython",
    "version": 3
   },
   "file_extension": ".py",
   "mimetype": "text/x-python",
   "name": "python",
   "nbconvert_exporter": "python",
   "pygments_lexer": "ipython3",
   "version": "3.10.7"
  }
 },
 "nbformat": 4,
 "nbformat_minor": 5
}
