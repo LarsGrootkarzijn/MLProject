{
 "cells": [
  {
   "cell_type": "code",
   "execution_count": 28,
   "id": "75c08c6b-aaec-470e-ba23-0b6a1e934a17",
   "metadata": {},
   "outputs": [],
   "source": [
    "import os\n",
    "import pandas as pd\n",
    "from sklearn.neural_network import MLPClassifier\n",
    "from sklearn.model_selection import train_test_split\n",
    "\n",
    "inputdata = pd.read_csv(\"./combined/combined_atp_matches.csv\")"
   ]
  },
  {
   "cell_type": "code",
   "execution_count": null,
   "id": "c4d8d811-2ad9-4b4e-8ce6-517ca2ca0801",
   "metadata": {},
   "outputs": [],
   "source": [
    "#https://scikit-learn.org/stable/modules/neural_networks_supervised.html\n",
    "#https://analyticsindiamag.com/a-beginners-guide-to-scikit-learns-mlpclassifier/\n",
    "\n",
    "#select the features one wants to extract\n",
    "feature_cols = ['surface_clay', 'surface_hard','surface_carpet','surface_grass','hand_l','hand_r', 'round_RR', 'round_R128', 'round_R64', 'round_R32', 'round_R16', 'round_QF','round_SF', 'round_F']\n",
    "\n",
    "#In X are extracted features, aka feature set\n",
    "X = inputdata.loc[:, feature_cols]\n",
    "\n",
    "#These are the output labels to train with.\n",
    "y = inputdata['winner_name']\n",
    "\n",
    "#Here we split our labels and feature set in 70%/30%\n",
    "X_train, X_test, y_train, y_test = train_test_split(X, y, test_size=0.30) \n",
    "\n",
    "#Select the classifier and the parameters\n",
    "clf = MLPClassifier(solver='adam', activation='relu', hidden_layer_sizes=(150, 100,50), random_state=1)\n",
    "\n",
    "#Fit the classifier, the model gets trained.\n",
    "clf.fit(X_train, y_train)"
   ]
  },
  {
   "cell_type": "code",
   "execution_count": 27,
   "id": "7769b86c-b024-4d6d-86c8-338e87ce2a01",
   "metadata": {},
   "outputs": [
    {
     "name": "stdout",
     "output_type": "stream",
     "text": [
      "Accuracy of MLPClassifier : 0.023249634648598378\n"
     ]
    }
   ],
   "source": [
    "y_pred = clf.predict(X_test)\n",
    "\n",
    "#Importing Confusion Matrix\n",
    "from sklearn.metrics import confusion_matrix\n",
    "#Comparing the predictions against the actual observations in y_val\n",
    "cm = confusion_matrix(y_pred, y_test)\n",
    "\n",
    "#Printing the accuracy\n",
    "print(\"Accuracy of MLPClassifier :\", accuracy(cm))"
   ]
  },
  {
   "cell_type": "code",
   "execution_count": 26,
   "id": "b1227ef9-8279-4063-bb83-f52fb623a4bb",
   "metadata": {},
   "outputs": [],
   "source": [
    "def accuracy(confusion_matrix):\n",
    "   diagonal_sum = confusion_matrix.trace()\n",
    "   sum_of_all_elements = confusion_matrix.sum()\n",
    "   return diagonal_sum / sum_of_all_elements"
   ]
  }
 ],
 "metadata": {
  "kernelspec": {
   "display_name": "Python 3 (ipykernel)",
   "language": "python",
   "name": "python3"
  },
  "language_info": {
   "codemirror_mode": {
    "name": "ipython",
    "version": 3
   },
   "file_extension": ".py",
   "mimetype": "text/x-python",
   "name": "python",
   "nbconvert_exporter": "python",
   "pygments_lexer": "ipython3",
   "version": "3.10.7"
  }
 },
 "nbformat": 4,
 "nbformat_minor": 5
}
